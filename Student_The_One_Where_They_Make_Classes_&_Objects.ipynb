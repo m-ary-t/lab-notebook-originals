{
  "nbformat": 4,
  "nbformat_minor": 0,
  "metadata": {
    "colab": {
      "name": "Student - The One Where They Make Classes & Objects",
      "provenance": [],
      "collapsed_sections": [],
      "include_colab_link": true
    },
    "kernelspec": {
      "name": "python3",
      "display_name": "Python 3"
    },
    "language_info": {
      "name": "python"
    }
  },
  "cells": [
    {
      "cell_type": "markdown",
      "metadata": {
        "id": "view-in-github",
        "colab_type": "text"
      },
      "source": [
        "<a href=\"https://colab.research.google.com/github/m-ary-t/lab-notebook-originals/blob/main/Student_The_One_Where_They_Make_Classes_%26_Objects.ipynb\" target=\"_parent\"><img src=\"https://colab.research.google.com/assets/colab-badge.svg\" alt=\"Open In Colab\"/></a>"
      ]
    },
    {
      "cell_type": "markdown",
      "source": [
        "![Friends_logo_PNG2.png](data:image/png;base64,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)"
      ],
      "metadata": {
        "id": "jaRTWa3LcgtB"
      }
    },
    {
      "cell_type": "markdown",
      "source": [
        "# What Should Be Known\n",
        "\n",
        "*   Variables\n",
        "*   Types\n",
        "*   Strings\n",
        "\n",
        "\n"
      ],
      "metadata": {
        "id": "LFtg4iN_g6R9"
      }
    },
    {
      "cell_type": "markdown",
      "metadata": {
        "id": "qw2q0H7gR29g"
      },
      "source": [
        "# **Classes & Objects**\n",
        "\n",
        "In Python, we use built-in **types** as a system of organization. We see this with strings, lists, booleans, etc.. In computer science, we are able to create our own type using **classes**. Classes use **objects** as a way of describing the class being created, and an **instance** refers to an object that belongs to a class. \n",
        "\n",
        "In the following cell, we will begin by creating a `TV_show` class.\n",
        "\n",
        "\n"
      ]
    },
    {
      "cell_type": "code",
      "metadata": {
        "id": "jVG0Pv4PbDYX"
      },
      "source": [
        "class TV_show(object):\n",
        "    \"\"\"This shows how the beginning of class functions are written\"\"\""
      ],
      "execution_count": null,
      "outputs": []
    },
    {
      "cell_type": "markdown",
      "metadata": {
        "id": "IhpnPZkuW4ZI"
      },
      "source": [
        "## Attributes\n",
        "\n",
        "Classes contain what are known as attributes. **Attributes** are variables for specific instances of a class. They are assigned to the objects within a class. "
      ]
    },
    {
      "cell_type": "code",
      "metadata": {
        "id": "CGtHFaG6HJhp"
      },
      "source": [
        "title = 'Friends'"
      ],
      "execution_count": null,
      "outputs": []
    },
    {
      "cell_type": "code",
      "metadata": {
        "id": "nGqLGvCGJhkI"
      },
      "source": [
        "genre = 'comedy'"
      ],
      "execution_count": null,
      "outputs": []
    },
    {
      "cell_type": "code",
      "metadata": {
        "id": "XTlbuo01Jl4N"
      },
      "source": [
        "year = 1994"
      ],
      "execution_count": null,
      "outputs": []
    },
    {
      "cell_type": "code",
      "metadata": {
        "id": "LV_LKYaZJuX8"
      },
      "source": [
        "print(title, year, genre)   #title, year, and genre are all attributes that are assigned to their own objects"
      ],
      "execution_count": null,
      "outputs": []
    },
    {
      "cell_type": "markdown",
      "source": [
        "## Methods\n",
        "\n",
        "Classes also contain methods. **Methods** are functions of what a class can do. We have seen methods in strings, lists, dictionaries and tuples. The way methods work are similar to that of a function. However, methods and functions differ in two ways: methods are defined within a class function in order to make the relationship between classes and the method explicit, and the syntax for which a method is called differs to that of a function's syntax. \n",
        "\n"
      ],
      "metadata": {
        "id": "BSiiieCK_9GA"
      }
    },
    {
      "cell_type": "markdown",
      "metadata": {
        "id": "7r2ZnWmsKIQU"
      },
      "source": [
        "## The `__init__` method\n",
        "\n",
        "\n",
        "\n",
        "\n",
        "\n",
        "\n",
        "Constructors in python are used to instantiate an object. To initialize means to assign values. The `__init__` method is an initalization constructor that expresses the attriubtes a class will have. In the following cell, we have created a `TV_show` class for you with an `__init__` constructor that already has attributes assigned to it. You do not need to make any changes to this class function, just run the code in the following cell.\n"
      ]
    },
    {
      "cell_type": "code",
      "metadata": {
        "id": "RBuyPDCbZxnk"
      },
      "source": [
        "class TV_show(object):\n",
        "\n",
        "    def __init__(self, title, year, genre):   #Anytime a method that has an argument is created within a class function, the first argument MUST be self\n",
        "        self.title = title\n",
        "        self.year = year\n",
        "        self.genre = genre\n",
        "\n"
      ],
      "execution_count": null,
      "outputs": []
    },
    {
      "cell_type": "code",
      "metadata": {
        "id": "Nnpc4BbNDs0r"
      },
      "source": [
        "#calling for classes can be simplified with the use of variables \n",
        "friends = TV_show('Friends', 1994, 'comedy')"
      ],
      "execution_count": null,
      "outputs": []
    },
    {
      "cell_type": "code",
      "metadata": {
        "id": "UyA7DVXcL2K_"
      },
      "source": [
        "friends.year"
      ],
      "execution_count": null,
      "outputs": []
    },
    {
      "cell_type": "code",
      "metadata": {
        "id": "r5364C-wL3xm"
      },
      "source": [
        "friends.genre"
      ],
      "execution_count": null,
      "outputs": []
    },
    {
      "cell_type": "code",
      "metadata": {
        "id": "ewHc98GPL5rs"
      },
      "source": [
        "friends.title"
      ],
      "execution_count": null,
      "outputs": []
    },
    {
      "cell_type": "code",
      "source": [
        "class TV_show(object):\n",
        "\n",
        "    #The TV_show class here is nearly the same as the one above, however, we have added a new attribute labeled 'ratings'\n",
        "\n",
        "    def __init__(self, title, year, genre, rating):   \n",
        "        self.title = title\n",
        "        self.year = year\n",
        "        self.genre = genre\n",
        "        self.rating = rating\n",
        "\n",
        "    #The following method will increment the rating of the TV show by 1/5th the amount of times the show was watched\n",
        "    def fans(self, watch):  #amount here means the amount of times the show was watched by fans\n",
        "        self.rating += self.rating + watch/5\n",
        "        "
      ],
      "metadata": {
        "id": "SEGFz2Y7Fckr"
      },
      "execution_count": null,
      "outputs": []
    },
    {
      "cell_type": "code",
      "source": [
        "friends = TV_show('Friends', 1994, 'comedy', 66)"
      ],
      "metadata": {
        "id": "qd3EXP8nHflB"
      },
      "execution_count": null,
      "outputs": []
    },
    {
      "cell_type": "code",
      "source": [
        "friends.fans(700)"
      ],
      "metadata": {
        "id": "dvuKCloBIHZH"
      },
      "execution_count": null,
      "outputs": []
    },
    {
      "cell_type": "code",
      "source": [
        "friends.rating"
      ],
      "metadata": {
        "id": "uPrMN-x6IoxU"
      },
      "execution_count": null,
      "outputs": []
    },
    {
      "cell_type": "markdown",
      "source": [
        "## The `__str__` method\n",
        "\n",
        "The `__str__` method is similar to the `_init__` method, as they are both considered special methods. The `__str__` method returns a string representation of an object."
      ],
      "metadata": {
        "id": "nYOLvDugJ_38"
      }
    },
    {
      "cell_type": "code",
      "source": [
        "class TV_show(object):\n",
        "\n",
        "    def __init__(self, year=1997, rating=80):   \n",
        "        self.year = year\n",
        "        self.rating = rating\n",
        "\n",
        "    def __str__(self):\n",
        "        return f'({self.year}, {self.rating})'\n"
      ],
      "metadata": {
        "id": "KjMNtkVcX68p"
      },
      "execution_count": null,
      "outputs": []
    },
    {
      "cell_type": "code",
      "source": [
        "friends = TV_show()\n",
        "friends"
      ],
      "metadata": {
        "id": "42L17Vlfav1q"
      },
      "execution_count": null,
      "outputs": []
    },
    {
      "cell_type": "code",
      "source": [
        "print(friends)"
      ],
      "metadata": {
        "id": "iFrLrJSWa9Tp"
      },
      "execution_count": null,
      "outputs": []
    },
    {
      "cell_type": "markdown",
      "source": [
        "# **The One with the Example Code**\n",
        "\n",
        "In the following cell, we have created an example code for you that codes for a class function named `Friend`. You do not need to make any changes to this code, just run the code in order to help with your understanding of classes and objects."
      ],
      "metadata": {
        "id": "G0SEVHFpJ3mE"
      }
    },
    {
      "cell_type": "code",
      "source": [
        "class Friend(object):\n",
        "    def __init__(self, name, weight, age):\n",
        "        self.name = name\n",
        "        self.weight = weight     #Weight is in pounds\n",
        "        self.age = age\n",
        "    def eat(self):\n",
        "        self.weight += 0.5\n",
        "    def live(self, season):     #Season is equal to the season of the show: for every season, Friend ages 1 year\n",
        "        self.age += season\n",
        "\n",
        "pheobe = Friend('Pheobe', 137, 30) \n",
        "print('Before eating, Pheobe weighs :', pheobe.weight, 'lbs')\n",
        "pheobe.eat()\n",
        "print('After eating, Pheobe weighs:', pheobe.weight, 'lbs')\n",
        "print('At the start of the show, Pheobe was', pheobe.age, 'years old')\n",
        "pheobe.live(2)\n",
        "print('After two seasons, Pheobe is', pheobe.age, 'years old')"
      ],
      "metadata": {
        "colab": {
          "base_uri": "https://localhost:8080/"
        },
        "id": "Oqduc77ZK2W0",
        "outputId": "dd580f4b-5330-43e9-e71c-fe4ab805995b"
      },
      "execution_count": 1,
      "outputs": [
        {
          "output_type": "stream",
          "name": "stdout",
          "text": [
            "Before eating, Pheobe weighs : 137 lbs\n",
            "After eating, Pheobe weighs: 137.5 lbs\n",
            "At the start of the show, Pheobe was 30 years old\n",
            "After two seasons, Pheobe is 32 years old\n"
          ]
        }
      ]
    },
    {
      "cell_type": "markdown",
      "metadata": {
        "id": "hRhdaLx--csS"
      },
      "source": [
        "#**The One Where They Make Classes & Objects**\n",
        "\n",
        "In the following cell, we have created a `Characters` class for you. You do not need to make any changes to this class function, just run the code for the following cell."
      ]
    },
    {
      "cell_type": "code",
      "metadata": {
        "id": "dHpQ-q7_-ayH"
      },
      "source": [
        "class Characters(object):\n",
        "    \"\"\"The Characters have names, energy levels, entertaining levels, and \n",
        "     amount of paychecks. Their paychecks and entertainment levels depend on \n",
        "     their ratings and how well they act. \"\"\"\n",
        "     \n",
        "    #TODO: complete the constructors \n",
        "    def __init__(self, name, energy, entertaining, paycheck):\n",
        "          \n",
        "\n",
        "    #TODO: complete the method rating, where it takes the argument stars.\n",
        "         # For every star the Characters gets, their paycheck raises 10000.\n",
        "    def rating(self, stars):\n",
        "          \n",
        "\n",
        "    #TODO: complete the method act_well. \n",
        "          # As the Characters act_well, they are 50% more entertaining.\n",
        "          # Their paycheck increases by 5%\n",
        "    def act_well(self):\n",
        "          self.entertaining = \n",
        "          self.paycheck = \n",
        "    \n"
      ],
      "execution_count": null,
      "outputs": []
    },
    {
      "cell_type": "markdown",
      "metadata": {
        "id": "sCpcZEvY9vx0"
      },
      "source": [
        " In the next cell, we have started a `Friends` class that inherrits the `Characters` class in the previous cell. The `Friends` class already has some defined attributes and methods within it. To this class, add a method called `sleep` that will increase the energy level by half of the time the character has sleep. Once you have completed this code, run the cell."
      ]
    },
    {
      "cell_type": "code",
      "metadata": {
        "id": "J5rM5W2a9u2e"
      },
      "source": [
        "class Friends(Characters):\n",
        "      \"\"\" Now, we will have you construct methods that only apply to the \n",
        "      characters in Friends. This class inherits all the methods from its\n",
        "      parent class Characters. It also includes its own, unique methods- methods\n",
        "      which are not in the parent class\"\"\"\n",
        "  \n",
        "      #TODO: construct a method called drink, which takes in cups of coffee as \n",
        "      # an attribute.\n",
        "          #For every cup of coffee the Character drinks, their energy level \n",
        "          # increases 1\n",
        "      def drink(self, coffee):\n",
        "          \n",
        "      \n",
        "      #TODO: construct a method called make_someone_laugh.\n",
        "          #This method increments the entertaining level of the Characters by 1.\n",
        "          #This method also decrements the energy level of the Characters by 2.\n",
        "      def make_someone_laugh(self):\n",
        "          \n",
        "\n",
        "      #TODO: construct a method called sleep.\n",
        "          #For every minuite the Character sleeps, increment the Characters energy \n",
        "          # level by half the time they slept. \n",
        "      def sleep(self, time):\n",
        "          \n",
        "\n",
        "\n",
        "chandler = None # TO DO: Instantiate the character chandler\n",
        "\n",
        "#TODO: Make chandler sleep for 40 minuites\n",
        "\n",
        "print(chandler.energy) #If your sleep method is right, this should print with no errors\n",
        "\n",
        "#TODO: give chandler a rating of 5 stars. Then print out his paycheck after. \n",
        "\n",
        "\n",
        "#TODO: Make chandler act well. Print his entertaining level and paycheck\n",
        "# before and after he acts well. This way, you can see if your\n",
        "# code under your act_well method was correct\n"
      ],
      "execution_count": null,
      "outputs": []
    },
    {
      "cell_type": "markdown",
      "source": [
        "### **Acknowledgments: **\n",
        "\n",
        "*   *Think Python* Textbook \n",
        "*   Class Lab 13- Making Classes\n",
        "*   Class Companion Notebook 14- Classes & Objects\n",
        "\n"
      ],
      "metadata": {
        "id": "RCHQ3-P9Nszx"
      }
    }
  ]
}